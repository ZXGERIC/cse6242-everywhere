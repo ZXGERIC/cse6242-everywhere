{
 "cells": [
  {
   "cell_type": "markdown",
   "metadata": {},
   "source": [
    "## Read in Restaurant Data"
   ]
  },
  {
   "cell_type": "code",
   "execution_count": 1,
   "metadata": {},
   "outputs": [
    {
     "data": {
      "text/plain": [
       "(400120, 26)"
      ]
     },
     "execution_count": 1,
     "metadata": {},
     "output_type": "execute_result"
    }
   ],
   "source": [
    "# import packages\n",
    "import pandas as pd\n",
    "import numpy as np\n",
    "import matplotlib.pyplot as plt\n",
    "\n",
    "# read in restaurants data and convert serveral date columns to date type\n",
    "restaurants = pd.read_csv(\"restaurants.csv\", parse_dates=['INSPECTION DATE', 'GRADE DATE', 'RECORD DATE'])\n",
    "restaurants.shape"
   ]
  },
  {
   "cell_type": "code",
   "execution_count": 2,
   "metadata": {},
   "outputs": [],
   "source": [
    "# get rid of uneccesary warning\n",
    "pd.set_option('mode.chained_assignment', None)"
   ]
  },
  {
   "cell_type": "code",
   "execution_count": 3,
   "metadata": {},
   "outputs": [],
   "source": [
    "# convert columna name to lowercase, and replace space with underscore\n",
    "restaurants.columns = restaurants.columns.str.lower().str.replace(\" \", \"_\")"
   ]
  },
  {
   "cell_type": "code",
   "execution_count": 4,
   "metadata": {},
   "outputs": [
    {
     "data": {
      "text/plain": [
       "28564"
      ]
     },
     "execution_count": 4,
     "metadata": {},
     "output_type": "execute_result"
    }
   ],
   "source": [
    "# check # of unique restaurant ID to\n",
    "len(restaurants[\"camis\"].unique())"
   ]
  },
  {
   "cell_type": "markdown",
   "metadata": {},
   "source": [
    "## Check Quality of Restaurant Data"
   ]
  },
  {
   "cell_type": "code",
   "execution_count": 5,
   "metadata": {},
   "outputs": [
    {
     "data": {
      "text/html": [
       "<div>\n",
       "<style scoped>\n",
       "    .dataframe tbody tr th:only-of-type {\n",
       "        vertical-align: middle;\n",
       "    }\n",
       "\n",
       "    .dataframe tbody tr th {\n",
       "        vertical-align: top;\n",
       "    }\n",
       "\n",
       "    .dataframe thead th {\n",
       "        text-align: right;\n",
       "    }\n",
       "</style>\n",
       "<table border=\"1\" class=\"dataframe\">\n",
       "  <thead>\n",
       "    <tr style=\"text-align: right;\">\n",
       "      <th></th>\n",
       "      <th>missing_pct</th>\n",
       "    </tr>\n",
       "  </thead>\n",
       "  <tbody>\n",
       "    <tr>\n",
       "      <th>grade_date</th>\n",
       "      <td>50.078976</td>\n",
       "    </tr>\n",
       "    <tr>\n",
       "      <th>grade</th>\n",
       "      <td>49.447166</td>\n",
       "    </tr>\n",
       "    <tr>\n",
       "      <th>score</th>\n",
       "      <td>4.507148</td>\n",
       "    </tr>\n",
       "    <tr>\n",
       "      <th>violation_description</th>\n",
       "      <td>2.577227</td>\n",
       "    </tr>\n",
       "    <tr>\n",
       "      <th>critical_flag</th>\n",
       "      <td>2.577227</td>\n",
       "    </tr>\n",
       "    <tr>\n",
       "      <th>bin</th>\n",
       "      <td>2.498001</td>\n",
       "    </tr>\n",
       "    <tr>\n",
       "      <th>census_tract</th>\n",
       "      <td>2.052884</td>\n",
       "    </tr>\n",
       "    <tr>\n",
       "      <th>council_district</th>\n",
       "      <td>2.052884</td>\n",
       "    </tr>\n",
       "    <tr>\n",
       "      <th>community_board</th>\n",
       "      <td>2.052884</td>\n",
       "    </tr>\n",
       "    <tr>\n",
       "      <th>nta</th>\n",
       "      <td>2.052884</td>\n",
       "    </tr>\n",
       "    <tr>\n",
       "      <th>violation_code</th>\n",
       "      <td>1.734980</td>\n",
       "    </tr>\n",
       "    <tr>\n",
       "      <th>zipcode</th>\n",
       "      <td>1.680496</td>\n",
       "    </tr>\n",
       "    <tr>\n",
       "      <th>action</th>\n",
       "      <td>0.664301</td>\n",
       "    </tr>\n",
       "    <tr>\n",
       "      <th>inspection_type</th>\n",
       "      <td>0.664301</td>\n",
       "    </tr>\n",
       "    <tr>\n",
       "      <th>latitude</th>\n",
       "      <td>0.402129</td>\n",
       "    </tr>\n",
       "    <tr>\n",
       "      <th>longitude</th>\n",
       "      <td>0.402129</td>\n",
       "    </tr>\n",
       "    <tr>\n",
       "      <th>bbl</th>\n",
       "      <td>0.402129</td>\n",
       "    </tr>\n",
       "    <tr>\n",
       "      <th>building</th>\n",
       "      <td>0.308657</td>\n",
       "    </tr>\n",
       "    <tr>\n",
       "      <th>dba</th>\n",
       "      <td>0.155703</td>\n",
       "    </tr>\n",
       "    <tr>\n",
       "      <th>street</th>\n",
       "      <td>0.020744</td>\n",
       "    </tr>\n",
       "    <tr>\n",
       "      <th>phone</th>\n",
       "      <td>0.004999</td>\n",
       "    </tr>\n",
       "    <tr>\n",
       "      <th>inspection_date</th>\n",
       "      <td>0.000000</td>\n",
       "    </tr>\n",
       "    <tr>\n",
       "      <th>cuisine_description</th>\n",
       "      <td>0.000000</td>\n",
       "    </tr>\n",
       "    <tr>\n",
       "      <th>record_date</th>\n",
       "      <td>0.000000</td>\n",
       "    </tr>\n",
       "    <tr>\n",
       "      <th>boro</th>\n",
       "      <td>0.000000</td>\n",
       "    </tr>\n",
       "    <tr>\n",
       "      <th>camis</th>\n",
       "      <td>0.000000</td>\n",
       "    </tr>\n",
       "  </tbody>\n",
       "</table>\n",
       "</div>"
      ],
      "text/plain": [
       "                       missing_pct\n",
       "grade_date               50.078976\n",
       "grade                    49.447166\n",
       "score                     4.507148\n",
       "violation_description     2.577227\n",
       "critical_flag             2.577227\n",
       "bin                       2.498001\n",
       "census_tract              2.052884\n",
       "council_district          2.052884\n",
       "community_board           2.052884\n",
       "nta                       2.052884\n",
       "violation_code            1.734980\n",
       "zipcode                   1.680496\n",
       "action                    0.664301\n",
       "inspection_type           0.664301\n",
       "latitude                  0.402129\n",
       "longitude                 0.402129\n",
       "bbl                       0.402129\n",
       "building                  0.308657\n",
       "dba                       0.155703\n",
       "street                    0.020744\n",
       "phone                     0.004999\n",
       "inspection_date           0.000000\n",
       "cuisine_description       0.000000\n",
       "record_date               0.000000\n",
       "boro                      0.000000\n",
       "camis                     0.000000"
      ]
     },
     "execution_count": 5,
     "metadata": {},
     "output_type": "execute_result"
    }
   ],
   "source": [
    "# calcuate missing value percentage for each column\n",
    "# grade_date and grade are half missing. Fortuntaely, score is only has 4% missing, and grade is correlated to score\n",
    "# \"A\" grade: 0 to 13 points for sanitary violations \n",
    "# \"B\" grade: 14 to 27 points for sanitary violations \n",
    "# \"C\" grade: 28 or more points for sanitary violations https://a816-health.nyc.gov/ABCEatsRestaurants/#/faq\n",
    "\n",
    "missing_pct = restaurants.isnull().mean() * 100\n",
    "missing_pct = missing_pct.to_frame(name=\"missing_pct\")\n",
    "missing_pct.sort_values(by='missing_pct', ascending=False)"
   ]
  },
  {
   "cell_type": "markdown",
   "metadata": {},
   "source": [
    "## Check Inspecation Type"
   ]
  },
  {
   "cell_type": "code",
   "execution_count": 6,
   "metadata": {},
   "outputs": [
    {
     "data": {
      "text/plain": [
       "array(['Cycle Inspection / Re-inspection',\n",
       "       'Cycle Inspection / Initial Inspection', nan,\n",
       "       'Pre-permit (Operational) / Initial Inspection',\n",
       "       'Pre-permit (Non-operational) / Initial Inspection',\n",
       "       'Smoke-Free Air Act / Re-inspection',\n",
       "       'Administrative Miscellaneous / Re-inspection',\n",
       "       'Pre-permit (Operational) / Re-inspection',\n",
       "       'Trans Fat / Initial Inspection',\n",
       "       'Cycle Inspection / Reopening Inspection',\n",
       "       'Inter-Agency Task Force / Initial Inspection',\n",
       "       'Calorie Posting / Initial Inspection',\n",
       "       'Administrative Miscellaneous / Initial Inspection',\n",
       "       'Pre-permit (Operational) / Reopening Inspection',\n",
       "       'Pre-permit (Operational) / Compliance Inspection',\n",
       "       'Smoke-Free Air Act / Initial Inspection',\n",
       "       'Pre-permit (Non-operational) / Compliance Inspection',\n",
       "       'Calorie Posting / Re-inspection', 'Trans Fat / Re-inspection',\n",
       "       'Pre-permit (Operational) / Second Compliance Inspection',\n",
       "       'Administrative Miscellaneous / Reopening Inspection',\n",
       "       'Cycle Inspection / Compliance Inspection',\n",
       "       'Pre-permit (Non-operational) / Re-inspection',\n",
       "       'Administrative Miscellaneous / Compliance Inspection',\n",
       "       'Smoke-Free Air Act / Limited Inspection',\n",
       "       'Smoke-Free Air Act / Compliance Inspection',\n",
       "       'Administrative Miscellaneous / Second Compliance Inspection',\n",
       "       'Calorie Posting / Compliance Inspection',\n",
       "       'Trans Fat / Compliance Inspection',\n",
       "       'Trans Fat / Second Compliance Inspection',\n",
       "       'Cycle Inspection / Second Compliance Inspection',\n",
       "       'Pre-permit (Non-operational) / Second Compliance Inspection'],\n",
       "      dtype=object)"
      ]
     },
     "execution_count": 6,
     "metadata": {},
     "output_type": "execute_result"
    }
   ],
   "source": [
    "restaurants.inspection_type.unique()"
   ]
  },
  {
   "cell_type": "markdown",
   "metadata": {},
   "source": [
    "## Data Wrangling"
   ]
  },
  {
   "cell_type": "code",
   "execution_count": 7,
   "metadata": {},
   "outputs": [
    {
     "data": {
      "text/plain": [
       "(220673, 26)"
      ]
     },
     "execution_count": 7,
     "metadata": {},
     "output_type": "execute_result"
    }
   ],
   "source": [
    "# filter the valid records of inspection data\n",
    "\n",
    "c1 = restaurants.inspection_type.isin(['Cycle Inspection / Re-inspection', 'Pre-permit (Operational) / Re-inspection'])\n",
    "c2 = restaurants.inspection_type.isin(['Cycle Inspection / Initial Inspection', 'Pre-permit (Operational) / Initial Inspection'])\n",
    "c3 = restaurants.score <= 13\n",
    "c4 = restaurants.inspection_type.isin(['Pre-permit (Operational) / Reopening Inspection', 'Cycle Inspection / Reopening Inspection'])\n",
    "c5 = restaurants.grade.isin(['A', 'B', 'C', 'P', 'Z'])\n",
    "\n",
    "conditions = (c1) | (c2 & c3) | (c4 & c5)\n",
    "\n",
    "restaurants = restaurants.loc[conditions, :]\n",
    "restaurants.shape"
   ]
  },
  {
   "cell_type": "code",
   "execution_count": 8,
   "metadata": {},
   "outputs": [
    {
     "data": {
      "text/plain": [
       "(219678, 26)"
      ]
     },
     "execution_count": 8,
     "metadata": {},
     "output_type": "execute_result"
    }
   ],
   "source": [
    "# further cleaning to only keep score !=-1 or score == -1 and grade is either B or C\n",
    "\n",
    "c6 = restaurants.score != -1\n",
    "c7 = (restaurants.score == -1) & (restaurants.grade.isin(['B', 'C']))\n",
    "restaurants = restaurants.loc[c6 | c7, :]\n",
    "restaurants.shape"
   ]
  },
  {
   "cell_type": "code",
   "execution_count": 9,
   "metadata": {},
   "outputs": [
    {
     "data": {
      "text/plain": [
       "(219678, 26)"
      ]
     },
     "execution_count": 9,
     "metadata": {},
     "output_type": "execute_result"
    }
   ],
   "source": [
    "# drop rows with missing score\n",
    "restaurants = restaurants.dropna(subset = [\"score\"])\n",
    "restaurants.shape"
   ]
  },
  {
   "cell_type": "code",
   "execution_count": 10,
   "metadata": {},
   "outputs": [
    {
     "data": {
      "text/plain": [
       "array([1], dtype=int64)"
      ]
     },
     "execution_count": 10,
     "metadata": {},
     "output_type": "execute_result"
    }
   ],
   "source": [
    "# test if there are multiple scores in the same inspection date for a restaurant\n",
    "# result: all scores are the same on the same inspection date for all restaurants\n",
    "\n",
    "restaurants.groupby(by=[\"camis\", \"inspection_date\"])[\"score\"].nunique().unique()"
   ]
  },
  {
   "cell_type": "code",
   "execution_count": 11,
   "metadata": {},
   "outputs": [
    {
     "data": {
      "text/html": [
       "<div>\n",
       "<style scoped>\n",
       "    .dataframe tbody tr th:only-of-type {\n",
       "        vertical-align: middle;\n",
       "    }\n",
       "\n",
       "    .dataframe tbody tr th {\n",
       "        vertical-align: top;\n",
       "    }\n",
       "\n",
       "    .dataframe thead th {\n",
       "        text-align: right;\n",
       "    }\n",
       "</style>\n",
       "<table border=\"1\" class=\"dataframe\">\n",
       "  <thead>\n",
       "    <tr style=\"text-align: right;\">\n",
       "      <th></th>\n",
       "      <th>missing_pct</th>\n",
       "    </tr>\n",
       "  </thead>\n",
       "  <tbody>\n",
       "    <tr>\n",
       "      <th>grade_date</th>\n",
       "      <td>9.082384</td>\n",
       "    </tr>\n",
       "    <tr>\n",
       "      <th>grade</th>\n",
       "      <td>9.034132</td>\n",
       "    </tr>\n",
       "    <tr>\n",
       "      <th>bin</th>\n",
       "      <td>2.606998</td>\n",
       "    </tr>\n",
       "    <tr>\n",
       "      <th>nta</th>\n",
       "      <td>2.158614</td>\n",
       "    </tr>\n",
       "    <tr>\n",
       "      <th>community_board</th>\n",
       "      <td>2.158614</td>\n",
       "    </tr>\n",
       "    <tr>\n",
       "      <th>council_district</th>\n",
       "      <td>2.158614</td>\n",
       "    </tr>\n",
       "    <tr>\n",
       "      <th>census_tract</th>\n",
       "      <td>2.158614</td>\n",
       "    </tr>\n",
       "    <tr>\n",
       "      <th>zipcode</th>\n",
       "      <td>1.722976</td>\n",
       "    </tr>\n",
       "    <tr>\n",
       "      <th>violation_description</th>\n",
       "      <td>0.921804</td>\n",
       "    </tr>\n",
       "    <tr>\n",
       "      <th>critical_flag</th>\n",
       "      <td>0.921804</td>\n",
       "    </tr>\n",
       "    <tr>\n",
       "      <th>violation_code</th>\n",
       "      <td>0.550351</td>\n",
       "    </tr>\n",
       "    <tr>\n",
       "      <th>latitude</th>\n",
       "      <td>0.460219</td>\n",
       "    </tr>\n",
       "    <tr>\n",
       "      <th>bbl</th>\n",
       "      <td>0.460219</td>\n",
       "    </tr>\n",
       "    <tr>\n",
       "      <th>longitude</th>\n",
       "      <td>0.460219</td>\n",
       "    </tr>\n",
       "    <tr>\n",
       "      <th>building</th>\n",
       "      <td>0.362349</td>\n",
       "    </tr>\n",
       "    <tr>\n",
       "      <th>street</th>\n",
       "      <td>0.016843</td>\n",
       "    </tr>\n",
       "    <tr>\n",
       "      <th>phone</th>\n",
       "      <td>0.005007</td>\n",
       "    </tr>\n",
       "    <tr>\n",
       "      <th>camis</th>\n",
       "      <td>0.000000</td>\n",
       "    </tr>\n",
       "    <tr>\n",
       "      <th>inspection_type</th>\n",
       "      <td>0.000000</td>\n",
       "    </tr>\n",
       "    <tr>\n",
       "      <th>record_date</th>\n",
       "      <td>0.000000</td>\n",
       "    </tr>\n",
       "    <tr>\n",
       "      <th>dba</th>\n",
       "      <td>0.000000</td>\n",
       "    </tr>\n",
       "    <tr>\n",
       "      <th>action</th>\n",
       "      <td>0.000000</td>\n",
       "    </tr>\n",
       "    <tr>\n",
       "      <th>inspection_date</th>\n",
       "      <td>0.000000</td>\n",
       "    </tr>\n",
       "    <tr>\n",
       "      <th>cuisine_description</th>\n",
       "      <td>0.000000</td>\n",
       "    </tr>\n",
       "    <tr>\n",
       "      <th>boro</th>\n",
       "      <td>0.000000</td>\n",
       "    </tr>\n",
       "    <tr>\n",
       "      <th>score</th>\n",
       "      <td>0.000000</td>\n",
       "    </tr>\n",
       "  </tbody>\n",
       "</table>\n",
       "</div>"
      ],
      "text/plain": [
       "                       missing_pct\n",
       "grade_date                9.082384\n",
       "grade                     9.034132\n",
       "bin                       2.606998\n",
       "nta                       2.158614\n",
       "community_board           2.158614\n",
       "council_district          2.158614\n",
       "census_tract              2.158614\n",
       "zipcode                   1.722976\n",
       "violation_description     0.921804\n",
       "critical_flag             0.921804\n",
       "violation_code            0.550351\n",
       "latitude                  0.460219\n",
       "bbl                       0.460219\n",
       "longitude                 0.460219\n",
       "building                  0.362349\n",
       "street                    0.016843\n",
       "phone                     0.005007\n",
       "camis                     0.000000\n",
       "inspection_type           0.000000\n",
       "record_date               0.000000\n",
       "dba                       0.000000\n",
       "action                    0.000000\n",
       "inspection_date           0.000000\n",
       "cuisine_description       0.000000\n",
       "boro                      0.000000\n",
       "score                     0.000000"
      ]
     },
     "execution_count": 11,
     "metadata": {},
     "output_type": "execute_result"
    }
   ],
   "source": [
    "# double check missing value percentage\n",
    "\n",
    "missing_pct = restaurants.isnull().mean() * 100\n",
    "missing_pct = missing_pct.to_frame(name=\"missing_pct\")\n",
    "missing_pct.sort_values(by='missing_pct', ascending=False)"
   ]
  },
  {
   "cell_type": "code",
   "execution_count": 12,
   "metadata": {},
   "outputs": [
    {
     "data": {
      "text/plain": [
       "array([40815044, 40364467, 50073170, 50003346, 50051535, 50011380,\n",
       "       41630686, 50100943, 50088108, 50050178, 50099192, 50082813,\n",
       "       50009320, 50055957, 41706406, 50085734, 50069801, 41535326,\n",
       "       50073177, 50097472, 41425365, 50038921, 50063953, 50071949,\n",
       "       41611450, 50095793, 41513074, 50074726, 41410925, 50094227,\n",
       "       50086161, 40372445, 50005081, 50064914, 41588059, 50077752,\n",
       "       50101339, 50053533, 50057954, 50000963, 50082989, 50015136,\n",
       "       50040490, 40760523, 50096488, 50100474, 50065695, 50091598,\n",
       "       50097573, 41452504, 50099249, 41551369, 50092213, 50016347,\n",
       "       50074869, 50068366, 40389701, 50069518, 50001855, 40365627,\n",
       "       41397322, 50089148, 40996365, 50062880, 50052660, 41194745,\n",
       "       41655200, 50035490, 50006614, 41462275, 50084352, 50050015,\n",
       "       40366543, 50066992, 50078301, 50087355, 50090861], dtype=int64)"
      ]
     },
     "execution_count": 12,
     "metadata": {},
     "output_type": "execute_result"
    }
   ],
   "source": [
    "# check which restaurants have -1 score\n",
    "restaurants.loc[restaurants.score == -1, \"camis\"].unique()"
   ]
  },
  {
   "cell_type": "code",
   "execution_count": 13,
   "metadata": {},
   "outputs": [
    {
     "data": {
      "text/plain": [
       "(25310, 26)"
      ]
     },
     "execution_count": 13,
     "metadata": {},
     "output_type": "execute_result"
    }
   ],
   "source": [
    "# data transformaiton: get the latest inspection result for each restaurant \n",
    "# and choose the lowest score. remember: lower is better.\n",
    "# note that ascending=[True, False, True] or [True, False, False] doesn't change results\n",
    "temp = restaurants.loc[:, [\"camis\", \"inspection_date\", \"score\"]].sort_values(by=[\"camis\", \"inspection_date\", \"score\"], ascending=[True, False, True]).drop_duplicates(subset=['camis'])\n",
    "restaurants_latest_clean = restaurants[restaurants.index.isin(temp.index)]\n",
    "restaurants_latest_clean.shape"
   ]
  },
  {
   "cell_type": "code",
   "execution_count": 14,
   "metadata": {},
   "outputs": [
    {
     "data": {
      "text/plain": [
       "(93972, 26)"
      ]
     },
     "execution_count": 14,
     "metadata": {},
     "output_type": "execute_result"
    }
   ],
   "source": [
    "# transform historical data\n",
    "temp2 = restaurants.loc[:, [\"camis\", \"inspection_date\", \"score\"]].sort_values(by=[\"camis\", \"inspection_date\", \"score\"], ascending=[True, False, True]).drop_duplicates(subset=['camis', \"inspection_date\"])\n",
    "restaurants_history_clean = restaurants[restaurants.index.isin(temp2.index)]\n",
    "restaurants_history_clean.shape"
   ]
  },
  {
   "cell_type": "code",
   "execution_count": 15,
   "metadata": {},
   "outputs": [],
   "source": [
    "# convert score to rating\n",
    "def convert_score_to_rating(df):\n",
    "    bins = [-1, 13, 27, 39, 48, np.inf]\n",
    "    labels = [5, 4, 3, 2, 1]\n",
    "    df[\"rating\"] = pd.cut(df.score, bins = bins, labels = labels)\n",
    "    df[\"rating\"] = pd.to_numeric(df.rating)\n",
    "    df.loc[(restaurants.score == -1) & (restaurants.grade == 'B'), \"rating\"] = 4\n",
    "    df.loc[(restaurants.score == -1) & (restaurants.grade == 'C'), \"rating\"] = 3"
   ]
  },
  {
   "cell_type": "code",
   "execution_count": 16,
   "metadata": {},
   "outputs": [],
   "source": [
    "convert_score_to_rating(restaurants_latest_clean)\n",
    "convert_score_to_rating(restaurants_history_clean)"
   ]
  },
  {
   "cell_type": "code",
   "execution_count": 17,
   "metadata": {},
   "outputs": [
    {
     "data": {
      "text/plain": [
       "<matplotlib.axes._subplots.AxesSubplot at 0x178c5a30>"
      ]
     },
     "execution_count": 17,
     "metadata": {},
     "output_type": "execute_result"
    },
    {
     "data": {
      "image/png": "[encoded data removed]",
      "text/plain": [
       "<Figure size 432x288 with 1 Axes>"
      ]
     },
     "metadata": {
      "needs_background": "light"
     },
     "output_type": "display_data"
    }
   ],
   "source": [
    "restaurants_latest_clean.rating.hist()"
   ]
  },
  {
   "cell_type": "markdown",
   "metadata": {},
   "source": [
    "## Read in Yelp Data"
   ]
  },
  {
   "cell_type": "code",
   "execution_count": 18,
   "metadata": {},
   "outputs": [
    {
     "data": {
      "text/plain": [
       "(24946, 9)"
      ]
     },
     "execution_count": 18,
     "metadata": {},
     "output_type": "execute_result"
    }
   ],
   "source": [
    "# read in yelp data and tranform the phone column\n",
    "yelp = pd.read_csv(\"yelp.csv\")\n",
    "yelp.columns = yelp.columns.str.lower().str.replace(\" \", \"_\")\n",
    "yelp.shape"
   ]
  },
  {
   "cell_type": "code",
   "execution_count": 19,
   "metadata": {},
   "outputs": [],
   "source": [
    "# remove the leading + sign from the phone column\n",
    "yelp.phone_ls = yelp.phone_ls.str.replace(\"+\", \"\").str.strip().str[1:]\n",
    "\n",
    "# remmove the first column that is not useful\n",
    "yelp = yelp.drop(yelp.columns[0], axis=1)"
   ]
  },
  {
   "cell_type": "markdown",
   "metadata": {},
   "source": [
    "## Merge Inspection Data with Yelp Data"
   ]
  },
  {
   "cell_type": "markdown",
   "metadata": {},
   "source": [
    "1. The only column that can be used to join is phone number.   \n",
    "2. camis and camis_ls are from different systems. They are vastly different (can't be used for data mapping)\n",
    "3. latitude and longtitude are used to match the closest restaurants whenever many chain restaurants share the same phone number"
   ]
  },
  {
   "cell_type": "code",
   "execution_count": 20,
   "metadata": {},
   "outputs": [
    {
     "data": {
      "text/plain": [
       "(32113, 35)"
      ]
     },
     "execution_count": 20,
     "metadata": {},
     "output_type": "execute_result"
    }
   ],
   "source": [
    "# join inspecation data with yelp data\n",
    "resto_yelp = restaurants_latest_clean.merge(yelp, how=\"inner\", left_on=\"phone\", right_on=\"phone_ls\")\n",
    "resto_yelp.shape"
   ]
  },
  {
   "cell_type": "code",
   "execution_count": 21,
   "metadata": {},
   "outputs": [
    {
     "data": {
      "text/plain": [
       "(29175, 35)"
      ]
     },
     "execution_count": 21,
     "metadata": {},
     "output_type": "execute_result"
    }
   ],
   "source": [
    "# remove data with missing latitude or longtitude\n",
    "\n",
    "resto_yelp[\"latitude\"] = resto_yelp[\"latitude\"].fillna(0)\n",
    "resto_yelp[\"longitude\"] = resto_yelp[\"longitude\"].fillna(0)\n",
    "resto_yelp[\"lat\"] = resto_yelp[\"lat\"].fillna(0)\n",
    "resto_yelp[\"lon\"] = resto_yelp[\"lon\"].fillna(0)\n",
    "\n",
    "la_long_conditions = (resto_yelp.latitude != 0) & (resto_yelp.longitude !=0)  & (resto_yelp.lat !=0)  & (resto_yelp.lon !=0)\n",
    "\n",
    "resto_yelp = resto_yelp.loc[la_long_conditions]\n",
    "resto_yelp = resto_yelp.loc[resto_yelp.phone != \"0000000000\"]\n",
    "resto_yelp.shape"
   ]
  },
  {
   "cell_type": "code",
   "execution_count": 22,
   "metadata": {},
   "outputs": [],
   "source": [
    "from math import cos, asin, sqrt, pi\n",
    "\n",
    "def get_distance_df(row):\n",
    "    lat1, lon1, lat2, lon2 = row[\"latitude\"], row[\"longitude\"], row[\"lat\"] , row[\"lon\"] \n",
    "    p = pi/180\n",
    "    a = 0.5 - cos((lat2-lat1)*p)/2 + cos(lat1*p) * cos(lat2*p) * (1-cos((lon2-lon1)*p))/2\n",
    "    row[\"distance\"] = 12742 * asin(sqrt(a)) * 0.621371\n",
    "    return row"
   ]
  },
  {
   "cell_type": "code",
   "execution_count": 23,
   "metadata": {},
   "outputs": [],
   "source": [
    "# calculate the distance between airbnb rental and restaurant\n",
    "resto_yelp = resto_yelp.apply(get_distance_df, axis=1)"
   ]
  },
  {
   "cell_type": "code",
   "execution_count": 24,
   "metadata": {},
   "outputs": [
    {
     "data": {
      "text/plain": [
       "(20676, 36)"
      ]
     },
     "execution_count": 24,
     "metadata": {},
     "output_type": "execute_result"
    }
   ],
   "source": [
    "# if phone is the same, choose the nearest resturant\n",
    "resto_yelp = resto_yelp.sort_values(by=[\"phone\", \"distance\"], ascending=[True, True]).drop_duplicates(subset=['phone'])\n",
    "resto_yelp.shape"
   ]
  },
  {
   "cell_type": "markdown",
   "metadata": {},
   "source": [
    "## A Scoring System"
   ]
  },
  {
   "cell_type": "code",
   "execution_count": 25,
   "metadata": {},
   "outputs": [
    {
     "data": {
      "image/png": "[encoded data removed]",
      "text/plain": [
       "<Figure size 432x288 with 1 Axes>"
      ]
     },
     "metadata": {
      "needs_background": "light"
     },
     "output_type": "display_data"
    }
   ],
   "source": [
    "# a super simple scoring\n",
    "# note that the lower hygiene score is, the better. The higher rating is, the better. \n",
    "\n",
    "resto_yelp[\"new_rating\"] = 0.4 * resto_yelp[\"rating_x\"] +  0.6 * resto_yelp[\"rating_y\"]\n",
    "resto_yelp[\"new_rating\"] = resto_yelp[\"new_rating\"].round(2)\n",
    "resto_yelp.new_rating.hist()\n",
    "plt.show()"
   ]
  },
  {
   "cell_type": "markdown",
   "metadata": {},
   "source": [
    "## Export Data"
   ]
  },
  {
   "cell_type": "code",
   "execution_count": 26,
   "metadata": {},
   "outputs": [],
   "source": [
    "# Deliver full clean data for visualization purpose\n",
    "\n",
    "restaurants_history_clean = restaurants_history_clean[restaurants_history_clean.camis.isin(resto_yelp.camis)]\n",
    "restaurants_history_clean = restaurants_history_clean.sort_values(by=[\"camis\", \"inspection_date\"], ascending=[True, False])\n",
    "\n",
    "restaurants_history_clean = restaurants_history_clean.drop(columns=[\"community_board\", \"council_district\", \"census_tract\", \"bin\", \"bbl\", \"nta\"])\n",
    "\n",
    "restaurants_history_clean.to_csv(\"restaurants_history_clean.csv\", index=None)"
   ]
  },
  {
   "cell_type": "code",
   "execution_count": 27,
   "metadata": {},
   "outputs": [],
   "source": [
    "# Deliver history clean data for visualization purpose\n",
    "\n",
    "restaurants_full_clean = restaurants[restaurants.camis.isin(resto_yelp.camis)]\n",
    "restaurants_full_clean.sort_values(by=[\"camis\", \"inspection_date\"], ascending=[True, False])\n",
    "restaurants_full_clean = restaurants_full_clean.drop(columns=[\"community_board\", \"council_district\", \"census_tract\", \"bin\", \"bbl\", \"nta\"])\n",
    "\n",
    "restaurants_full_clean.to_csv(\"restaurants_full_clean.csv\", index=None)"
   ]
  },
  {
   "cell_type": "code",
   "execution_count": 28,
   "metadata": {},
   "outputs": [],
   "source": [
    "resto_yelp = resto_yelp.drop(columns=[\"community_board\", \"council_district\", \"census_tract\", \"bin\", \"bbl\", \"nta\", \"camis_ls\", \"phone_ls\", \"id\"])\n",
    "resto_yelp.to_csv(\"resto_yelp.csv\", index=None)"
   ]
  },
  {
   "cell_type": "markdown",
   "metadata": {},
   "source": [
    "## Test Correlation Between Score and Rating"
   ]
  },
  {
   "cell_type": "markdown",
   "metadata": {},
   "source": [
    "### Assume rating is a numerical continuous value"
   ]
  },
  {
   "cell_type": "code",
   "execution_count": 29,
   "metadata": {},
   "outputs": [
    {
     "name": "stdout",
     "output_type": "stream",
     "text": [
      "             score  rating_y\n",
      "score     1.000000 -0.017643\n",
      "rating_y -0.017643  1.000000\n",
      "             score  rating_y\n",
      "score     1.000000 -0.007156\n",
      "rating_y -0.007156  1.000000\n",
      "             score  rating_y\n",
      "score     1.000000 -0.009418\n",
      "rating_y -0.009418  1.000000\n"
     ]
    }
   ],
   "source": [
    "# test if there is any correlation between score and rating, if rating is treated as numerical continous values\n",
    "Pearson = resto_yelp.loc[:, [\"score\", \"rating_y\"]].corr(method = \"pearson\")\n",
    "Kendall = resto_yelp.loc[:, [\"score\", \"rating_y\"]].corr(method = \"kendall\")\n",
    "Spearman = resto_yelp.loc[:, [\"score\", \"rating_y\"]].corr(method = \"spearman\")\n",
    "\n",
    "print(Pearson)\n",
    "print(Kendall)\n",
    "print(Spearman)"
   ]
  },
  {
   "cell_type": "markdown",
   "metadata": {},
   "source": [
    "### Assume rating is a categorial value"
   ]
  },
  {
   "cell_type": "code",
   "execution_count": 30,
   "metadata": {},
   "outputs": [
    {
     "data": {
      "text/plain": [
       "F_onewayResult(statistic=1.2543736175696136, pvalue=0.2688557263120063)"
      ]
     },
     "execution_count": 30,
     "metadata": {},
     "output_type": "execute_result"
    }
   ],
   "source": [
    "# test if there is any correlation between score and rating_y, if rating_y is treated as categorial values\n",
    "from scipy.stats import f_oneway\n",
    "d_1 = resto_yelp.loc[resto_yelp.rating_y == 1, \"score\"]\n",
    "d_1_5 = resto_yelp.loc[resto_yelp.rating_y == 1.5, \"score\"]\n",
    "d_2 = resto_yelp.loc[resto_yelp.rating_y == 2, \"score\"]\n",
    "d_2_5 = resto_yelp.loc[resto_yelp.rating_y == 2.5, \"score\"]\n",
    "d_3 = resto_yelp.loc[resto_yelp.rating_y == 3, \"score\"]\n",
    "d_3_5 = resto_yelp.loc[resto_yelp.rating_y == 3.5, \"score\"]\n",
    "d_4 = resto_yelp.loc[resto_yelp.rating_y == 4, \"score\"]\n",
    "d_4_5 = resto_yelp.loc[resto_yelp.rating_y == 4.5, \"score\"]\n",
    "\n",
    "f_oneway(d_1,d_1_5,d_2,d_2_5,d_3,d_3_5,d_4,d_4_5)"
   ]
  },
  {
   "cell_type": "code",
   "execution_count": 31,
   "metadata": {},
   "outputs": [
    {
     "data": {
      "text/plain": [
       "array([3. , 3.5, 4. , 2.5, 2. , 4.5, 1.5, 1. , 5. ])"
      ]
     },
     "execution_count": 31,
     "metadata": {},
     "output_type": "execute_result"
    }
   ],
   "source": [
    "yelp.rating.unique()"
   ]
  },
  {
   "cell_type": "markdown",
   "metadata": {},
   "source": [
    "# Calculate Distances between Airbnb and Restaurants"
   ]
  },
  {
   "cell_type": "markdown",
   "metadata": {},
   "source": [
    "### Define distance function"
   ]
  },
  {
   "cell_type": "code",
   "execution_count": 32,
   "metadata": {},
   "outputs": [],
   "source": [
    "from math import cos, asin, sqrt, pi\n",
    "\n",
    "def get_distance(lat1, lon1, lat2, lon2):\n",
    "    p = pi/180\n",
    "    a = 0.5 - cos((lat2-lat1)*p)/2 + cos(lat1*p) * cos(lat2*p) * (1-cos((lon2-lon1)*p))/2\n",
    "    return 12742 * asin(sqrt(a)) * 0.621371"
   ]
  },
  {
   "cell_type": "markdown",
   "metadata": {},
   "source": [
    "### Read in airbnb data"
   ]
  },
  {
   "cell_type": "code",
   "execution_count": 33,
   "metadata": {},
   "outputs": [
    {
     "data": {
      "text/plain": [
       "(46527, 74)"
      ]
     },
     "execution_count": 33,
     "metadata": {},
     "output_type": "execute_result"
    }
   ],
   "source": [
    "airbnb = pd.read_csv(\"airbnb.csv\")\n",
    "airbnb.shape"
   ]
  },
  {
   "cell_type": "markdown",
   "metadata": {},
   "source": [
    "### Calcuate the nearst 100 resturant for each airbnb rental"
   ]
  },
  {
   "cell_type": "code",
   "execution_count": 34,
   "metadata": {},
   "outputs": [],
   "source": [
    "import csv\n",
    "\n",
    "a = airbnb.loc[:, [\"id\", \"latitude\", \"longitude\"]].values.tolist()\n",
    "b = resto_yelp.loc[:, [\"camis\", \"latitude\", \"longitude\", \"new_rating\"]].values.tolist()\n",
    "\n",
    "num_nearest = 100\n",
    "top_k = 10\n",
    "\n",
    "res = []\n",
    "for airbnb_id, airbnb_lat, airbnb_lon in a:\n",
    "    distance_list = []\n",
    "    for resto_id, resto_lat, resto_lon, resto_score in b:\n",
    "        d = get_distance(airbnb_lat, airbnb_lon, resto_lat, resto_lon)\n",
    "        distance_list.append([airbnb_id, resto_id, d, resto_score])\n",
    "\n",
    "    d_s = sorted(distance_list, key=lambda x: x[2])[:num_nearest]\n",
    "    d_s_top_k = sorted(d_s, key=lambda x: x[3], reverse=True)[:top_k]\n",
    "    res.extend(d_s_top_k)"
   ]
  },
  {
   "cell_type": "code",
   "execution_count": 35,
   "metadata": {},
   "outputs": [],
   "source": [
    "# convert id and camis to integer\n",
    "res1 = [ [int(a), int(b), c, d] for a, b, c, d in res ]"
   ]
  },
  {
   "cell_type": "code",
   "execution_count": 36,
   "metadata": {},
   "outputs": [],
   "source": [
    "# write to one to many data set for visualization purpose\n",
    "with open('airbnb_resto_1_to_many.csv', 'w+', newline='') as f:\n",
    "    write = csv.writer(f)\n",
    "    write.writerows(res1)"
   ]
  }
 ],
 "metadata": {
  "kernelspec": {
   "display_name": "Python 3",
   "language": "python",
   "name": "python3"
  },
  "language_info": {
   "codemirror_mode": {
    "name": "ipython",
    "version": 3
   },
   "file_extension": ".py",
   "mimetype": "text/x-python",
   "name": "python",
   "nbconvert_exporter": "python",
   "pygments_lexer": "ipython3",
   "version": "3.6.5"
  }
 },
 "nbformat": 4,
 "nbformat_minor": 2
}
